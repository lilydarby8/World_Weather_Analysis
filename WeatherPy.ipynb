{
 "cells": [
  {
   "cell_type": "code",
   "execution_count": 38,
   "id": "d8e22ad8",
   "metadata": {},
   "outputs": [],
   "source": [
    "# Import the dependencies.\n",
    "import pandas as pd \n",
    "import matplotlib.pyplot as plt\n",
    "import numpy as np"
   ]
  },
  {
   "cell_type": "code",
   "execution_count": 45,
   "id": "e68c9150",
   "metadata": {},
   "outputs": [
    {
     "data": {
      "text/plain": [
       "<zip at 0x23b0d156e08>"
      ]
     },
     "execution_count": 45,
     "metadata": {},
     "output_type": "execute_result"
    }
   ],
   "source": [
    "# Create a set of random latitude and longitude combinations.\n",
    "lats = np.random.uniform(low= 90.000, high=90.000, size=1500)\n",
    "lngs = np.random.uniform(low=-180.000, high=180.000, size=1500)\n",
    "lat_lngs = zip(lats, lngs)\n",
    "\n",
    "lat_lngs"
   ]
  },
  {
   "cell_type": "code",
   "execution_count": 46,
   "id": "9b702826",
   "metadata": {},
   "outputs": [],
   "source": [
    "# Create a practice set of random latitude and longitude combinations.\n",
    "lats = [25.12903645, 25.92017388, 26.62509167, -59.98969384, 37.30571269]\n",
    "lngs = [-67.59741259, 11.09532135, 74.84233102, -76.89176677, -61.13376282]\n",
    "lat_lngs = zip(lats, lngs)"
   ]
  },
  {
   "cell_type": "code",
   "execution_count": 47,
   "id": "796d6323",
   "metadata": {},
   "outputs": [],
   "source": [
    "# Add the latitudes and longitudes to a list.\n",
    "coordinates = list(lat_lngs)"
   ]
  },
  {
   "cell_type": "code",
   "execution_count": 48,
   "id": "0058e018",
   "metadata": {},
   "outputs": [
    {
     "name": "stdout",
     "output_type": "stream",
     "text": [
      "25.12903645 -67.59741259\n",
      "25.92017388 11.09532135\n",
      "26.62509167 74.84233102\n",
      "-59.98969384 -76.89176677\n",
      "37.30571269 -61.13376282\n"
     ]
    }
   ],
   "source": [
    "# Use the print() function to display the latitude and longitude combinations.\n",
    "for coordinate in coordinates:\n",
    "    print(coordinate[0], coordinate[1])"
   ]
  },
  {
   "cell_type": "code",
   "execution_count": 49,
   "id": "7f7be266",
   "metadata": {},
   "outputs": [],
   "source": [
    "from citipy import citipy"
   ]
  },
  {
   "cell_type": "code",
   "execution_count": 50,
   "id": "02a4d004",
   "metadata": {},
   "outputs": [
    {
     "data": {
      "text/plain": [
       "5"
      ]
     },
     "execution_count": 50,
     "metadata": {},
     "output_type": "execute_result"
    }
   ],
   "source": [
    "# Create a list for holding the cities.\n",
    "cities = []\n",
    "# Identify the nearest city for each latitude and longitude combination.\n",
    "for coordinate in coordinates:\n",
    "    city = citipy.nearest_city(coordinate[0], coordinate[1]).city_name\n",
    "    \n",
    "    # If the city is unique, then we will ass it to the cities list.\n",
    "    if city not in cities:\n",
    "        cities.append(city)\n",
    "        \n",
    "# Print the city count to confirm sufficent count.\n",
    "len(cities)"
   ]
  },
  {
   "cell_type": "code",
   "execution_count": null,
   "id": "20c88d5f",
   "metadata": {},
   "outputs": [],
   "source": []
  },
  {
   "cell_type": "code",
   "execution_count": null,
   "id": "f342f232",
   "metadata": {},
   "outputs": [],
   "source": []
  }
 ],
 "metadata": {
  "kernelspec": {
   "display_name": "PythonData",
   "language": "python",
   "name": "pythondata"
  },
  "language_info": {
   "codemirror_mode": {
    "name": "ipython",
    "version": 3
   },
   "file_extension": ".py",
   "mimetype": "text/x-python",
   "name": "python",
   "nbconvert_exporter": "python",
   "pygments_lexer": "ipython3",
   "version": "3.7.13"
  }
 },
 "nbformat": 4,
 "nbformat_minor": 5
}
